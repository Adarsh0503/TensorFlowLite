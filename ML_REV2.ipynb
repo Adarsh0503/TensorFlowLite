{
  "nbformat": 4,
  "nbformat_minor": 0,
  "metadata": {
    "colab": {
      "provenance": []
    },
    "kernelspec": {
      "name": "python3",
      "display_name": "Python 3"
    },
    "language_info": {
      "name": "python"
    }
  },
  "cells": [
    {
      "cell_type": "code",
      "execution_count": 1,
      "metadata": {
        "colab": {
          "base_uri": "https://localhost:8080/"
        },
        "id": "JPqCuB4wKVZY",
        "outputId": "b2427de5-34b8-485e-ee6b-c0c06de5b27c"
      },
      "outputs": [
        {
          "output_type": "stream",
          "name": "stdout",
          "text": [
            "Cloning into 'examples'...\n",
            "remote: Enumerating objects: 23729, done.\u001b[K\n",
            "remote: Counting objects: 100% (693/693), done.\u001b[K\n",
            "remote: Compressing objects: 100% (439/439), done.\u001b[K\n",
            "remote: Total 23729 (delta 227), reused 591 (delta 166), pack-reused 23036\u001b[K\n",
            "Receiving objects: 100% (23729/23729), 44.18 MiB | 26.24 MiB/s, done.\n",
            "Resolving deltas: 100% (12876/12876), done.\n",
            "/content/examples/lite/examples/recommendation/ml\n",
            "Requirement already satisfied: pandas>=1.0.5 in /usr/local/lib/python3.10/dist-packages (from -r requirements.txt (line 1)) (1.5.3)\n",
            "Requirement already satisfied: tensorflow>=2.2.0 in /usr/local/lib/python3.10/dist-packages (from -r requirements.txt (line 2)) (2.15.0)\n",
            "Requirement already satisfied: absl-py>=0.1.6 in /usr/local/lib/python3.10/dist-packages (from -r requirements.txt (line 3)) (1.4.0)\n",
            "Requirement already satisfied: python-dateutil>=2.8.1 in /usr/local/lib/python3.10/dist-packages (from pandas>=1.0.5->-r requirements.txt (line 1)) (2.8.2)\n",
            "Requirement already satisfied: pytz>=2020.1 in /usr/local/lib/python3.10/dist-packages (from pandas>=1.0.5->-r requirements.txt (line 1)) (2023.3.post1)\n",
            "Requirement already satisfied: numpy>=1.21.0 in /usr/local/lib/python3.10/dist-packages (from pandas>=1.0.5->-r requirements.txt (line 1)) (1.23.5)\n",
            "Requirement already satisfied: astunparse>=1.6.0 in /usr/local/lib/python3.10/dist-packages (from tensorflow>=2.2.0->-r requirements.txt (line 2)) (1.6.3)\n",
            "Requirement already satisfied: flatbuffers>=23.5.26 in /usr/local/lib/python3.10/dist-packages (from tensorflow>=2.2.0->-r requirements.txt (line 2)) (23.5.26)\n",
            "Requirement already satisfied: gast!=0.5.0,!=0.5.1,!=0.5.2,>=0.2.1 in /usr/local/lib/python3.10/dist-packages (from tensorflow>=2.2.0->-r requirements.txt (line 2)) (0.5.4)\n",
            "Requirement already satisfied: google-pasta>=0.1.1 in /usr/local/lib/python3.10/dist-packages (from tensorflow>=2.2.0->-r requirements.txt (line 2)) (0.2.0)\n",
            "Requirement already satisfied: h5py>=2.9.0 in /usr/local/lib/python3.10/dist-packages (from tensorflow>=2.2.0->-r requirements.txt (line 2)) (3.9.0)\n",
            "Requirement already satisfied: libclang>=13.0.0 in /usr/local/lib/python3.10/dist-packages (from tensorflow>=2.2.0->-r requirements.txt (line 2)) (16.0.6)\n",
            "Requirement already satisfied: ml-dtypes~=0.2.0 in /usr/local/lib/python3.10/dist-packages (from tensorflow>=2.2.0->-r requirements.txt (line 2)) (0.2.0)\n",
            "Requirement already satisfied: opt-einsum>=2.3.2 in /usr/local/lib/python3.10/dist-packages (from tensorflow>=2.2.0->-r requirements.txt (line 2)) (3.3.0)\n",
            "Requirement already satisfied: packaging in /usr/local/lib/python3.10/dist-packages (from tensorflow>=2.2.0->-r requirements.txt (line 2)) (23.2)\n",
            "Requirement already satisfied: protobuf!=4.21.0,!=4.21.1,!=4.21.2,!=4.21.3,!=4.21.4,!=4.21.5,<5.0.0dev,>=3.20.3 in /usr/local/lib/python3.10/dist-packages (from tensorflow>=2.2.0->-r requirements.txt (line 2)) (3.20.3)\n",
            "Requirement already satisfied: setuptools in /usr/local/lib/python3.10/dist-packages (from tensorflow>=2.2.0->-r requirements.txt (line 2)) (67.7.2)\n",
            "Requirement already satisfied: six>=1.12.0 in /usr/local/lib/python3.10/dist-packages (from tensorflow>=2.2.0->-r requirements.txt (line 2)) (1.16.0)\n",
            "Requirement already satisfied: termcolor>=1.1.0 in /usr/local/lib/python3.10/dist-packages (from tensorflow>=2.2.0->-r requirements.txt (line 2)) (2.4.0)\n",
            "Requirement already satisfied: typing-extensions>=3.6.6 in /usr/local/lib/python3.10/dist-packages (from tensorflow>=2.2.0->-r requirements.txt (line 2)) (4.5.0)\n",
            "Requirement already satisfied: wrapt<1.15,>=1.11.0 in /usr/local/lib/python3.10/dist-packages (from tensorflow>=2.2.0->-r requirements.txt (line 2)) (1.14.1)\n",
            "Requirement already satisfied: tensorflow-io-gcs-filesystem>=0.23.1 in /usr/local/lib/python3.10/dist-packages (from tensorflow>=2.2.0->-r requirements.txt (line 2)) (0.35.0)\n",
            "Requirement already satisfied: grpcio<2.0,>=1.24.3 in /usr/local/lib/python3.10/dist-packages (from tensorflow>=2.2.0->-r requirements.txt (line 2)) (1.60.0)\n",
            "Requirement already satisfied: tensorboard<2.16,>=2.15 in /usr/local/lib/python3.10/dist-packages (from tensorflow>=2.2.0->-r requirements.txt (line 2)) (2.15.1)\n",
            "Requirement already satisfied: tensorflow-estimator<2.16,>=2.15.0 in /usr/local/lib/python3.10/dist-packages (from tensorflow>=2.2.0->-r requirements.txt (line 2)) (2.15.0)\n",
            "Requirement already satisfied: keras<2.16,>=2.15.0 in /usr/local/lib/python3.10/dist-packages (from tensorflow>=2.2.0->-r requirements.txt (line 2)) (2.15.0)\n",
            "Requirement already satisfied: wheel<1.0,>=0.23.0 in /usr/local/lib/python3.10/dist-packages (from astunparse>=1.6.0->tensorflow>=2.2.0->-r requirements.txt (line 2)) (0.42.0)\n",
            "Requirement already satisfied: google-auth<3,>=1.6.3 in /usr/local/lib/python3.10/dist-packages (from tensorboard<2.16,>=2.15->tensorflow>=2.2.0->-r requirements.txt (line 2)) (2.17.3)\n",
            "Requirement already satisfied: google-auth-oauthlib<2,>=0.5 in /usr/local/lib/python3.10/dist-packages (from tensorboard<2.16,>=2.15->tensorflow>=2.2.0->-r requirements.txt (line 2)) (1.2.0)\n",
            "Requirement already satisfied: markdown>=2.6.8 in /usr/local/lib/python3.10/dist-packages (from tensorboard<2.16,>=2.15->tensorflow>=2.2.0->-r requirements.txt (line 2)) (3.5.1)\n",
            "Requirement already satisfied: requests<3,>=2.21.0 in /usr/local/lib/python3.10/dist-packages (from tensorboard<2.16,>=2.15->tensorflow>=2.2.0->-r requirements.txt (line 2)) (2.31.0)\n",
            "Requirement already satisfied: tensorboard-data-server<0.8.0,>=0.7.0 in /usr/local/lib/python3.10/dist-packages (from tensorboard<2.16,>=2.15->tensorflow>=2.2.0->-r requirements.txt (line 2)) (0.7.2)\n",
            "Requirement already satisfied: werkzeug>=1.0.1 in /usr/local/lib/python3.10/dist-packages (from tensorboard<2.16,>=2.15->tensorflow>=2.2.0->-r requirements.txt (line 2)) (3.0.1)\n",
            "Requirement already satisfied: cachetools<6.0,>=2.0.0 in /usr/local/lib/python3.10/dist-packages (from google-auth<3,>=1.6.3->tensorboard<2.16,>=2.15->tensorflow>=2.2.0->-r requirements.txt (line 2)) (5.3.2)\n",
            "Requirement already satisfied: pyasn1-modules>=0.2.1 in /usr/local/lib/python3.10/dist-packages (from google-auth<3,>=1.6.3->tensorboard<2.16,>=2.15->tensorflow>=2.2.0->-r requirements.txt (line 2)) (0.3.0)\n",
            "Requirement already satisfied: rsa<5,>=3.1.4 in /usr/local/lib/python3.10/dist-packages (from google-auth<3,>=1.6.3->tensorboard<2.16,>=2.15->tensorflow>=2.2.0->-r requirements.txt (line 2)) (4.9)\n",
            "Requirement already satisfied: requests-oauthlib>=0.7.0 in /usr/local/lib/python3.10/dist-packages (from google-auth-oauthlib<2,>=0.5->tensorboard<2.16,>=2.15->tensorflow>=2.2.0->-r requirements.txt (line 2)) (1.3.1)\n",
            "Requirement already satisfied: charset-normalizer<4,>=2 in /usr/local/lib/python3.10/dist-packages (from requests<3,>=2.21.0->tensorboard<2.16,>=2.15->tensorflow>=2.2.0->-r requirements.txt (line 2)) (3.3.2)\n",
            "Requirement already satisfied: idna<4,>=2.5 in /usr/local/lib/python3.10/dist-packages (from requests<3,>=2.21.0->tensorboard<2.16,>=2.15->tensorflow>=2.2.0->-r requirements.txt (line 2)) (3.6)\n",
            "Requirement already satisfied: urllib3<3,>=1.21.1 in /usr/local/lib/python3.10/dist-packages (from requests<3,>=2.21.0->tensorboard<2.16,>=2.15->tensorflow>=2.2.0->-r requirements.txt (line 2)) (2.0.7)\n",
            "Requirement already satisfied: certifi>=2017.4.17 in /usr/local/lib/python3.10/dist-packages (from requests<3,>=2.21.0->tensorboard<2.16,>=2.15->tensorflow>=2.2.0->-r requirements.txt (line 2)) (2023.11.17)\n",
            "Requirement already satisfied: MarkupSafe>=2.1.1 in /usr/local/lib/python3.10/dist-packages (from werkzeug>=1.0.1->tensorboard<2.16,>=2.15->tensorflow>=2.2.0->-r requirements.txt (line 2)) (2.1.3)\n",
            "Requirement already satisfied: pyasn1<0.6.0,>=0.4.6 in /usr/local/lib/python3.10/dist-packages (from pyasn1-modules>=0.2.1->google-auth<3,>=1.6.3->tensorboard<2.16,>=2.15->tensorflow>=2.2.0->-r requirements.txt (line 2)) (0.5.1)\n",
            "Requirement already satisfied: oauthlib>=3.0.0 in /usr/local/lib/python3.10/dist-packages (from requests-oauthlib>=0.7.0->google-auth-oauthlib<2,>=0.5->tensorboard<2.16,>=2.15->tensorflow>=2.2.0->-r requirements.txt (line 2)) (3.2.2)\n"
          ]
        }
      ],
      "source": [
        "!git clone https://github.com/tensorflow/examples\n",
        "%cd examples/lite/examples/recommendation/ml/\n",
        "!pip install -r requirements.txt"
      ]
    },
    {
      "cell_type": "markdown",
      "source": [
        "Data Generation:\n",
        "\n",
        "The script example_generation_movielens creates artificial examples of user interactions with movies. It considers factors like the minimum length of a user's history (timeline), the maximum context length (number of recent interactions considered), and the minimum rating a movie must have to be included. It divides the generated data into training and testing sets, and it also builds vocabularies to map movie IDs, genres, and ratings."
      ],
      "metadata": {
        "id": "jCjAT148K4Jg"
      }
    },
    {
      "cell_type": "code",
      "source": [
        "!python -m data.example_generation_movielens \\\n",
        "  --data_dir=data/raw \\\n",
        "  --output_dir=data/examples \\\n",
        "  --min_timeline_length=3 \\\n",
        "  --max_context_length=10 \\\n",
        "  --max_context_movie_genre_length=32 \\\n",
        "  --min_rating=2 \\\n",
        "  --train_data_fraction=0.9 \\\n",
        "  --build_vocabs=True"
      ],
      "metadata": {
        "colab": {
          "base_uri": "https://localhost:8080/"
        },
        "id": "4dxRsX3EK3Ec",
        "outputId": "23df754f-75f2-4c21-9bca-4838231f16b1"
      },
      "execution_count": 2,
      "outputs": [
        {
          "output_type": "stream",
          "name": "stdout",
          "text": [
            "2024-01-09 07:42:54.753344: E external/local_xla/xla/stream_executor/cuda/cuda_dnn.cc:9261] Unable to register cuDNN factory: Attempting to register factory for plugin cuDNN when one has already been registered\n",
            "2024-01-09 07:42:54.753428: E external/local_xla/xla/stream_executor/cuda/cuda_fft.cc:607] Unable to register cuFFT factory: Attempting to register factory for plugin cuFFT when one has already been registered\n",
            "2024-01-09 07:42:54.755448: E external/local_xla/xla/stream_executor/cuda/cuda_blas.cc:1515] Unable to register cuBLAS factory: Attempting to register factory for plugin cuBLAS when one has already been registered\n",
            "2024-01-09 07:42:54.764354: I tensorflow/core/platform/cpu_feature_guard.cc:182] This TensorFlow binary is optimized to use available CPU instructions in performance-critical operations.\n",
            "To enable the following instructions: AVX2 FMA, in other operations, rebuild TensorFlow with the appropriate compiler flags.\n",
            "2024-01-09 07:42:56.083032: W tensorflow/compiler/tf2tensorrt/utils/py_utils.cc:38] TF-TRT Warning: Could not find TensorRT\n",
            "I0109 07:42:57.563091 134020858757120 example_generation_movielens.py:460] Downloading and extracting data.\n",
            "Downloading data from https://files.grouplens.org/datasets/movielens/ml-1m.zip\n",
            "5917549/5917549 [==============================] - 0s 0us/step\n",
            "I0109 07:42:58.365000 134020858757120 example_generation_movielens.py:406] Reading data to dataframes.\n",
            "/content/examples/lite/examples/recommendation/ml/data/example_generation_movielens.py:132: ParserWarning: Falling back to the 'python' engine because the 'c' engine does not support regex separators (separators > 1 char and different from '\\s+' are interpreted as regex); you can avoid this warning by specifying engine='python'.\n",
            "  ratings_df = pd.read_csv(\n",
            "/content/examples/lite/examples/recommendation/ml/data/example_generation_movielens.py:140: ParserWarning: Falling back to the 'python' engine because the 'c' engine does not support regex separators (separators > 1 char and different from '\\s+' are interpreted as regex); you can avoid this warning by specifying engine='python'.\n",
            "  movies_df = pd.read_csv(\n",
            "I0109 07:43:05.740919 134020858757120 example_generation_movielens.py:408] Generating movie rating user timelines.\n",
            "I0109 07:43:09.834610 134020858757120 example_generation_movielens.py:410] Generating train and test examples.\n",
            "6040/6040 [==============================] - 128s 21ms/step\n",
            "I0109 07:45:19.139850 134020858757120 example_generation_movielens.py:421] Writing generated training examples.\n",
            "844195/844195 [==============================] - 22s 26us/step\n",
            "I0109 07:45:41.504714 134020858757120 example_generation_movielens.py:424] Writing generated testing examples.\n",
            "93799/93799 [==============================] - 2s 24us/step\n",
            "I0109 07:46:03.572168 134020858757120 example_generation_movielens.py:473] Generated dataset: {'train_size': 844195, 'test_size': 93799, 'train_file': 'data/examples/train_movielens_1m.tfrecord', 'test_file': 'data/examples/test_movielens_1m.tfrecord', 'vocab_size': 3883, 'vocab_file': 'data/examples/movie_vocab.json', 'vocab_max_id': 3952, 'year_vocab_size': 82, 'year_vocab_file': 'data/examples/movie_year_vocab.txt', 'genre_vocab_size': 19, 'genre_vocab_file': 'data/examples/movie_genre_vocab.txt'}\n"
          ]
        }
      ]
    },
    {
      "cell_type": "markdown",
      "source": [],
      "metadata": {
        "id": "OItxFv8GLNnx"
      }
    },
    {
      "cell_type": "code",
      "source": [
        "!cat configs/sample_input_config.pbtxt"
      ],
      "metadata": {
        "colab": {
          "base_uri": "https://localhost:8080/"
        },
        "id": "Px4RQjuoLgDP",
        "outputId": "fc89b68a-2596-48a6-f39c-8f5959000431"
      },
      "execution_count": 3,
      "outputs": [
        {
          "output_type": "stream",
          "name": "stdout",
          "text": [
            "activity_feature_groups {\n",
            "  features {\n",
            "    feature_name: \"context_movie_id\"\n",
            "    feature_type: INT\n",
            "    vocab_size: 3953\n",
            "    embedding_dim: 8\n",
            "    feature_length: 10\n",
            "  }\n",
            "  features {\n",
            "    feature_name: \"context_movie_rating\"\n",
            "    feature_type: FLOAT\n",
            "    feature_length: 10\n",
            "  }\n",
            "  encoder_type: CNN\n",
            "}\n",
            "activity_feature_groups {\n",
            "  features {\n",
            "    feature_name: \"context_movie_genre\"\n",
            "    feature_type: STRING\n",
            "    vocab_name: \"movie_genre_vocab.txt\"\n",
            "    vocab_size: 19\n",
            "    embedding_dim: 4\n",
            "    feature_length: 32\n",
            "  }\n",
            "  encoder_type: CNN\n",
            "}\n",
            "label_feature {\n",
            "  feature_name: \"label_movie_id\"\n",
            "  feature_type: INT\n",
            "  vocab_size: 3953\n",
            "  embedding_dim: 8\n",
            "  feature_length: 1\n",
            "}\n"
          ]
        }
      ]
    },
    {
      "cell_type": "markdown",
      "source": [
        "Model Training and Evaluation:\n",
        "\n",
        "The recommendation_model_launcher script trains a recommendation model using TensorFlow. The model architecture is configured with hidden layers, convolutional layers (for feature extraction), and LSTM units (to capture temporal patterns). The training process involves adjusting the model's parameters based on the training data to improve its ability to predict movie preferences. The evaluation step assesses how well the model performs on a separate set of data not used during training (testing data). It measures the model's ability to recommend movies that users are likely to enjoy."
      ],
      "metadata": {
        "id": "1NtFmY0TL9pQ"
      }
    },
    {
      "cell_type": "code",
      "source": [
        "!python -m model.recommendation_model_launcher \\\n",
        "  --training_data_filepattern \"data/examples/train_movielens_1m.tfrecord\" \\\n",
        "  --testing_data_filepattern \"data/examples/test_movielens_1m.tfrecord\" \\\n",
        "  --model_dir \"model/model_dir\" \\\n",
        "  --export_dir \"model/model_dir/export_m1\" \\\n",
        "  --vocab_dir \"data/examples\" \\\n",
        "  --input_config_file \"configs/sample_input_config.pbtxt\" \\\n",
        "  --batch_size 32 \\\n",
        "  --learning_rate 0.01 \\\n",
        "  --steps_per_epoch 2 \\\n",
        "  --num_epochs 2 \\\n",
        "  --num_eval_steps 2 \\\n",
        "  --run_mode \"train_and_eval\" \\\n",
        "  --gradient_clip_norm 1.0 \\\n",
        "  --num_predictions 10 \\\n",
        "  --hidden_layer_dims \"32,32\" \\\n",
        "  --eval_top_k \"1,5\" \\\n",
        "  --conv_num_filter_ratios \"2,4\" \\\n",
        "  --conv_kernel_size 4 \\\n",
        "  --lstm_num_units 16"
      ],
      "metadata": {
        "colab": {
          "base_uri": "https://localhost:8080/"
        },
        "id": "i32JeAqiL8oL",
        "outputId": "cc22c7ae-11cb-4d16-9c57-9bdbc56418e2"
      },
      "execution_count": 4,
      "outputs": [
        {
          "output_type": "stream",
          "name": "stdout",
          "text": [
            "2024-01-09 07:46:53.712235: E external/local_xla/xla/stream_executor/cuda/cuda_dnn.cc:9261] Unable to register cuDNN factory: Attempting to register factory for plugin cuDNN when one has already been registered\n",
            "2024-01-09 07:46:53.712316: E external/local_xla/xla/stream_executor/cuda/cuda_fft.cc:607] Unable to register cuFFT factory: Attempting to register factory for plugin cuFFT when one has already been registered\n",
            "2024-01-09 07:46:53.715305: E external/local_xla/xla/stream_executor/cuda/cuda_blas.cc:1515] Unable to register cuBLAS factory: Attempting to register factory for plugin cuBLAS when one has already been registered\n",
            "2024-01-09 07:46:53.732404: I tensorflow/core/platform/cpu_feature_guard.cc:182] This TensorFlow binary is optimized to use available CPU instructions in performance-critical operations.\n",
            "To enable the following instructions: AVX2 FMA, in other operations, rebuild TensorFlow with the appropriate compiler flags.\n",
            "2024-01-09 07:46:55.138176: W tensorflow/compiler/tf2tensorrt/utils/py_utils.cc:38] TF-TRT Warning: Could not find TensorRT\n",
            "INFO:tensorflow:Setting up train and eval input datasets.\n",
            "I0109 07:46:57.333368 133734327652352 app.py:254] Setting up train and eval input datasets.\n",
            "INFO:tensorflow:Build keras model for mode: train_and_eval.\n",
            "I0109 07:46:57.721589 133734327652352 app.py:254] Build keras model for mode: train_and_eval.\n",
            "Epoch 1/2\n",
            "2/2 [==============================] - 6s 1s/step - loss: 8.2772 - Global_Recall/Recall_1: 0.0000e+00 - Global_Recall/Recall_5: 0.0000e+00 - global_mean_rank: 1855.7441 - Batch_Recall/Recall_1: 0.0312 - Batch_Recall/Recall_5: 0.1875 - batch_mean_rank: 15.3281 - val_loss: 8.2923 - val_Global_Recall/Recall_1: 0.0000e+00 - val_Global_Recall/Recall_5: 0.0000e+00 - val_global_mean_rank: 2199.5747 - val_Batch_Recall/Recall_1: 0.0312 - val_Batch_Recall/Recall_5: 0.1562 - val_batch_mean_rank: 15.0000\n",
            "Epoch 2/2\n",
            "2/2 [==============================] - 0s 195ms/step - loss: 8.2912 - Global_Recall/Recall_1: 0.0000e+00 - Global_Recall/Recall_5: 0.0000e+00 - global_mean_rank: 2099.3770 - Batch_Recall/Recall_1: 0.0156 - Batch_Recall/Recall_5: 0.1875 - batch_mean_rank: 15.5469 - val_loss: 8.2936 - val_Global_Recall/Recall_1: 0.0000e+00 - val_Global_Recall/Recall_5: 0.0000e+00 - val_global_mean_rank: 2232.6484 - val_Batch_Recall/Recall_1: 0.0469 - val_Batch_Recall/Recall_5: 0.1406 - val_batch_mean_rank: 14.8594\n",
            "INFO:tensorflow:<keras.src.callbacks.History object at 0x79a10c3901c0>\n",
            "I0109 07:47:03.836745 133734327652352 app.py:254] <keras.src.callbacks.History object at 0x79a10c3901c0>\n",
            "INFO:tensorflow:Exporting model to dir: model/model_dir/export_m1\n",
            "I0109 07:47:03.839017 133734327652352 app.py:254] Exporting model to dir: model/model_dir/export_m1\n",
            "I0109 07:47:04.175333 133734327652352 signature_serialization.py:156] Function `serve` contains input name(s) 5159, resource, 5203, 5272 with unsupported characters which will be renamed to context_encoder_1_feature_group_encoder_2_context_movie_idembedding_layer_embedding_lookup_5159, context_encoder_1_proj_layer_biasadd_readvariableop_resource, context_encoder_1_feature_group_encoder_3_context_movie_genreembedding_layer_embedding_lookup_5203, label_movie_idembedding_layer_embedding_lookup_5272 in the SavedModel.\n",
            "WARNING:tensorflow:Skipping full serialization of Keras layer <model.recommendation_model.RecommendationModel object at 0x79a12d13f430>, because it is not built.\n",
            "W0109 07:47:04.224203 133734327652352 save_impl.py:66] Skipping full serialization of Keras layer <model.recommendation_model.RecommendationModel object at 0x79a12d13f430>, because it is not built.\n",
            "WARNING:tensorflow:Skipping full serialization of Keras layer <model.label_encoder.LabelEncoder object at 0x79a10d534250>, because it is not built.\n",
            "W0109 07:47:04.370412 133734327652352 save_impl.py:66] Skipping full serialization of Keras layer <model.label_encoder.LabelEncoder object at 0x79a10d534250>, because it is not built.\n",
            "I0109 07:47:04.444372 133734327652352 save.py:289] Found untraced functions such as context_encoder_1_layer_call_fn, context_encoder_1_layer_call_and_return_conditional_losses, dot_product_similarity_1_layer_call_fn, dot_product_similarity_1_layer_call_and_return_conditional_losses, label_movie_idembedding_layer_layer_call_fn while saving (showing 5 of 32). These functions will not be directly callable after loading.\n",
            "INFO:tensorflow:Assets written to: model/model_dir/export_m1/assets\n",
            "I0109 07:47:04.711800 133734327652352 builder_impl.py:801] Assets written to: model/model_dir/export_m1/assets\n",
            "I0109 07:47:04.720527 133734327652352 fingerprinting_utils.py:49] Writing fingerprint to model/model_dir/export_m1/fingerprint.pb\n",
            "WARNING:tensorflow:Detecting that an object or model or tf.train.Checkpoint is being deleted with unrestored values. See the following logs for the specific values in question. To silence these warnings, use `status.expect_partial()`. See https://www.tensorflow.org/api_docs/python/tf/train/Checkpoint#restorefor details about the status object returned by the restore function.\n",
            "W0109 07:47:04.734389 133734327652352 checkpoint.py:225] Detecting that an object or model or tf.train.Checkpoint is being deleted with unrestored values. See the following logs for the specific values in question. To silence these warnings, use `status.expect_partial()`. See https://www.tensorflow.org/api_docs/python/tf/train/Checkpoint#restorefor details about the status object returned by the restore function.\n",
            "WARNING:tensorflow:Value in checkpoint could not be found in the restored object: (root).optimizer._iterations\n",
            "W0109 07:47:04.734653 133734327652352 checkpoint.py:234] Value in checkpoint could not be found in the restored object: (root).optimizer._iterations\n",
            "WARNING:tensorflow:Value in checkpoint could not be found in the restored object: (root).optimizer._learning_rate\n",
            "W0109 07:47:04.734726 133734327652352 checkpoint.py:234] Value in checkpoint could not be found in the restored object: (root).optimizer._learning_rate\n",
            "WARNING:tensorflow:Value in checkpoint could not be found in the restored object: (root).optimizer._variables.1\n",
            "W0109 07:47:04.734775 133734327652352 checkpoint.py:234] Value in checkpoint could not be found in the restored object: (root).optimizer._variables.1\n",
            "WARNING:tensorflow:Value in checkpoint could not be found in the restored object: (root).optimizer._variables.2\n",
            "W0109 07:47:04.734820 133734327652352 checkpoint.py:234] Value in checkpoint could not be found in the restored object: (root).optimizer._variables.2\n",
            "WARNING:tensorflow:Value in checkpoint could not be found in the restored object: (root).optimizer._variables.3\n",
            "W0109 07:47:04.734864 133734327652352 checkpoint.py:234] Value in checkpoint could not be found in the restored object: (root).optimizer._variables.3\n",
            "WARNING:tensorflow:Value in checkpoint could not be found in the restored object: (root).optimizer._variables.4\n",
            "W0109 07:47:04.734905 133734327652352 checkpoint.py:234] Value in checkpoint could not be found in the restored object: (root).optimizer._variables.4\n",
            "WARNING:tensorflow:Value in checkpoint could not be found in the restored object: (root).optimizer._variables.5\n",
            "W0109 07:47:04.734946 133734327652352 checkpoint.py:234] Value in checkpoint could not be found in the restored object: (root).optimizer._variables.5\n",
            "WARNING:tensorflow:Value in checkpoint could not be found in the restored object: (root).optimizer._variables.6\n",
            "W0109 07:47:04.734988 133734327652352 checkpoint.py:234] Value in checkpoint could not be found in the restored object: (root).optimizer._variables.6\n",
            "WARNING:tensorflow:Value in checkpoint could not be found in the restored object: (root).optimizer._variables.7\n",
            "W0109 07:47:04.735028 133734327652352 checkpoint.py:234] Value in checkpoint could not be found in the restored object: (root).optimizer._variables.7\n",
            "WARNING:tensorflow:Value in checkpoint could not be found in the restored object: (root).optimizer._variables.8\n",
            "W0109 07:47:04.735069 133734327652352 checkpoint.py:234] Value in checkpoint could not be found in the restored object: (root).optimizer._variables.8\n",
            "WARNING:tensorflow:Value in checkpoint could not be found in the restored object: (root).optimizer._variables.9\n",
            "W0109 07:47:04.735109 133734327652352 checkpoint.py:234] Value in checkpoint could not be found in the restored object: (root).optimizer._variables.9\n",
            "WARNING:tensorflow:Value in checkpoint could not be found in the restored object: (root).optimizer._variables.10\n",
            "W0109 07:47:04.735150 133734327652352 checkpoint.py:234] Value in checkpoint could not be found in the restored object: (root).optimizer._variables.10\n",
            "WARNING:tensorflow:Value in checkpoint could not be found in the restored object: (root).optimizer._variables.11\n",
            "W0109 07:47:04.735190 133734327652352 checkpoint.py:234] Value in checkpoint could not be found in the restored object: (root).optimizer._variables.11\n",
            "WARNING:tensorflow:Value in checkpoint could not be found in the restored object: (root).optimizer._variables.12\n",
            "W0109 07:47:04.735231 133734327652352 checkpoint.py:234] Value in checkpoint could not be found in the restored object: (root).optimizer._variables.12\n",
            "WARNING:tensorflow:Value in checkpoint could not be found in the restored object: (root).optimizer._variables.13\n",
            "W0109 07:47:04.735271 133734327652352 checkpoint.py:234] Value in checkpoint could not be found in the restored object: (root).optimizer._variables.13\n",
            "WARNING:tensorflow:Value in checkpoint could not be found in the restored object: (root).optimizer._variables.14\n",
            "W0109 07:47:04.735312 133734327652352 checkpoint.py:234] Value in checkpoint could not be found in the restored object: (root).optimizer._variables.14\n",
            "WARNING:tensorflow:Value in checkpoint could not be found in the restored object: (root).optimizer._variables.15\n",
            "W0109 07:47:04.735353 133734327652352 checkpoint.py:234] Value in checkpoint could not be found in the restored object: (root).optimizer._variables.15\n",
            "WARNING:tensorflow:Value in checkpoint could not be found in the restored object: (root).optimizer._variables.16\n",
            "W0109 07:47:04.735393 133734327652352 checkpoint.py:234] Value in checkpoint could not be found in the restored object: (root).optimizer._variables.16\n",
            "WARNING:tensorflow:Value in checkpoint could not be found in the restored object: (root).optimizer._variables.17\n",
            "W0109 07:47:04.735434 133734327652352 checkpoint.py:234] Value in checkpoint could not be found in the restored object: (root).optimizer._variables.17\n",
            "INFO:tensorflow:Converting model to tflite model.\n",
            "I0109 07:47:04.735766 133734327652352 app.py:254] Converting model to tflite model.\n",
            "2024-01-09 07:47:04.995100: W tensorflow/compiler/mlir/lite/python/tf_tfl_flatbuffer_helpers.cc:378] Ignored output_format.\n",
            "2024-01-09 07:47:04.995155: W tensorflow/compiler/mlir/lite/python/tf_tfl_flatbuffer_helpers.cc:381] Ignored drop_control_dependency.\n",
            "2024-01-09 07:47:04.995898: I tensorflow/cc/saved_model/reader.cc:83] Reading SavedModel from: model/model_dir/export_m1\n",
            "2024-01-09 07:47:04.997253: I tensorflow/cc/saved_model/reader.cc:51] Reading meta graph with tags { serve }\n",
            "2024-01-09 07:47:04.997292: I tensorflow/cc/saved_model/reader.cc:146] Reading SavedModel debug info (if present) from: model/model_dir/export_m1\n",
            "2024-01-09 07:47:05.001377: I tensorflow/compiler/mlir/mlir_graph_optimization_pass.cc:388] MLIR V1 optimization pass is not enabled\n",
            "2024-01-09 07:47:05.002557: I tensorflow/cc/saved_model/loader.cc:233] Restoring SavedModel bundle.\n",
            "2024-01-09 07:47:05.070094: I tensorflow/cc/saved_model/loader.cc:217] Running initialization op on SavedModel bundle at path: model/model_dir/export_m1\n",
            "2024-01-09 07:47:05.088083: I tensorflow/cc/saved_model/loader.cc:316] SavedModel load for tags { serve }; Status: success: OK. Took 92178 microseconds.\n",
            "2024-01-09 07:47:05.181250: I tensorflow/compiler/mlir/tensorflow/utils/dump_mlir_util.cc:269] disabling MLIR crash reproducer, set env var `MLIR_CRASH_REPRODUCER_DIRECTORY` to enable.\n",
            "Summary on the non-converted ops:\n",
            "---------------------------------\n",
            " * Accepted dialects: tfl, builtin, func\n",
            " * Non-Converted Ops: 29, Total Ops 65, % non-converted = 44.62 %\n",
            " * 29 ARITH ops\n",
            "\n",
            "- arith.constant:   29 occurrences  (f32: 17, i32: 12)\n",
            "\n",
            "\n",
            "\n",
            "  (f32: 2)\n",
            "  (f32: 2)\n",
            "  (f32: 4)\n",
            "  (f32: 4)\n",
            "  (f32: 2)\n",
            "  (f32: 1)\n",
            "  (f32: 2)\n",
            "\n",
            "  (i1: 2)\n",
            "  (f32: 2)\n",
            "  (f32: 8, i32: 2)\n",
            "  (f32: 1)\n",
            "2024-01-09 07:47:05.359573: I tensorflow/compiler/mlir/lite/flatbuffer_export.cc:2989] Estimated count of arithmetic ops: 0.091 M  ops, equivalently 0.045 M  MACs\n"
          ]
        }
      ]
    },
    {
      "cell_type": "markdown",
      "source": [
        "This command is executing the recommendation model launcher script with specific parameters to export a trained recommendation model. The script takes as input the file patterns for training and testing data in TensorFlow Record format, along with a configuration file defining model settings. The trained model checkpoints, stored in the directory specified by --model_dir during training, are exported to a new directory designated by --export_dir. Additionally, the script references a vocabulary directory (--vocab_dir) containing essential files for model understanding. The command runs in \"export\" mode, as indicated by --run_mode, specifying the checkpoint file (--checkpoint_path) from which to export the model. Various parameters, such as the number of predictions to generate, dimensions of hidden layers, evaluation metric thresholds, and convolutional layer configurations, are provided to tailor the export process. Once executed, the script saves the exported model in the specified directory, enabling its use for making predictions or deployment in other applications."
      ],
      "metadata": {
        "id": "N76cI7O0LITL"
      }
    },
    {
      "cell_type": "code",
      "source": [
        "!python -m model.recommendation_model_launcher \\\n",
        "  --training_data_filepattern \"data/examples/train_movielens_1m.tfrecord\" \\\n",
        "  --testing_data_filepattern \"data/examples/test_movielens_1m.tfrecord\" \\\n",
        "  --input_config_file \"configs/sample_input_config.pbtxt\" \\\n",
        "  --model_dir \"model/model_dir\" \\\n",
        "  --export_dir \"model/model_dir/export_m2\" \\\n",
        "  --vocab_dir \"data/examples\" \\\n",
        "  --run_mode \"export\" \\\n",
        "  --checkpoint_path \"model/model_dir/ckpt-4\" \\\n",
        "  --num_predictions 10 \\\n",
        "  --hidden_layer_dims \"32,32\" \\\n",
        "  --eval_top_k \"1,5\" \\\n",
        "  --conv_num_filter_ratios \"2,4\" \\\n",
        "  --conv_kernel_size 4 \\\n",
        "  --lstm_num_units 16"
      ],
      "metadata": {
        "colab": {
          "base_uri": "https://localhost:8080/"
        },
        "id": "wggdsu6_MbGm",
        "outputId": "bb66bc86-e308-4fcc-e2d9-539cc5634c8a"
      },
      "execution_count": 7,
      "outputs": [
        {
          "output_type": "stream",
          "name": "stdout",
          "text": [
            "2024-01-09 07:55:17.492469: E external/local_xla/xla/stream_executor/cuda/cuda_dnn.cc:9261] Unable to register cuDNN factory: Attempting to register factory for plugin cuDNN when one has already been registered\n",
            "2024-01-09 07:55:17.492547: E external/local_xla/xla/stream_executor/cuda/cuda_fft.cc:607] Unable to register cuFFT factory: Attempting to register factory for plugin cuFFT when one has already been registered\n",
            "2024-01-09 07:55:17.494015: E external/local_xla/xla/stream_executor/cuda/cuda_blas.cc:1515] Unable to register cuBLAS factory: Attempting to register factory for plugin cuBLAS when one has already been registered\n",
            "2024-01-09 07:55:18.895532: W tensorflow/compiler/tf2tensorrt/utils/py_utils.cc:38] TF-TRT Warning: Could not find TensorRT\n",
            "INFO:tensorflow:Setting up train and eval input datasets.\n",
            "I0109 07:55:20.875624 132055901843456 app.py:254] Setting up train and eval input datasets.\n",
            "INFO:tensorflow:Build keras model for mode: export.\n",
            "I0109 07:55:21.257751 132055901843456 app.py:254] Build keras model for mode: export.\n",
            "INFO:tensorflow:Exporting model to dir: model/model_dir/export_m2\n",
            "I0109 07:55:21.330213 132055901843456 app.py:254] Exporting model to dir: model/model_dir/export_m2\n",
            "I0109 07:55:22.426735 132055901843456 signature_serialization.py:156] Function `serve` contains input name(s) 500, resource, 544, 613 with unsupported characters which will be renamed to context_encoder_1_feature_group_encoder_2_context_movie_idembedding_layer_embedding_lookup_500, context_encoder_1_proj_layer_biasadd_readvariableop_resource, context_encoder_1_feature_group_encoder_3_context_movie_genreembedding_layer_embedding_lookup_544, label_movie_idembedding_layer_embedding_lookup_613 in the SavedModel.\n",
            "WARNING:tensorflow:Skipping full serialization of Keras layer <model.recommendation_model.RecommendationModel object at 0x781a3c3a6950>, because it is not built.\n",
            "W0109 07:55:22.476680 132055901843456 save_impl.py:66] Skipping full serialization of Keras layer <model.recommendation_model.RecommendationModel object at 0x781a3c3a6950>, because it is not built.\n",
            "WARNING:tensorflow:Skipping full serialization of Keras layer <model.label_encoder.LabelEncoder object at 0x781a3c404a00>, because it is not built.\n",
            "W0109 07:55:22.621659 132055901843456 save_impl.py:66] Skipping full serialization of Keras layer <model.label_encoder.LabelEncoder object at 0x781a3c404a00>, because it is not built.\n",
            "I0109 07:55:22.685760 132055901843456 save.py:289] Found untraced functions such as context_encoder_1_layer_call_fn, context_encoder_1_layer_call_and_return_conditional_losses, dot_product_similarity_1_layer_call_fn, dot_product_similarity_1_layer_call_and_return_conditional_losses, label_movie_idembedding_layer_layer_call_fn while saving (showing 5 of 32). These functions will not be directly callable after loading.\n",
            "INFO:tensorflow:Assets written to: model/model_dir/export_m2/assets\n",
            "I0109 07:55:23.018035 132055901843456 builder_impl.py:801] Assets written to: model/model_dir/export_m2/assets\n",
            "I0109 07:55:23.027055 132055901843456 fingerprinting_utils.py:49] Writing fingerprint to model/model_dir/export_m2/fingerprint.pb\n",
            "WARNING:tensorflow:Detecting that an object or model or tf.train.Checkpoint is being deleted with unrestored values. See the following logs for the specific values in question. To silence these warnings, use `status.expect_partial()`. See https://www.tensorflow.org/api_docs/python/tf/train/Checkpoint#restorefor details about the status object returned by the restore function.\n",
            "W0109 07:55:23.036909 132055901843456 checkpoint.py:225] Detecting that an object or model or tf.train.Checkpoint is being deleted with unrestored values. See the following logs for the specific values in question. To silence these warnings, use `status.expect_partial()`. See https://www.tensorflow.org/api_docs/python/tf/train/Checkpoint#restorefor details about the status object returned by the restore function.\n",
            "WARNING:tensorflow:Value in checkpoint could not be found in the restored object: (root).optimizer._iterations\n",
            "W0109 07:55:23.037145 132055901843456 checkpoint.py:234] Value in checkpoint could not be found in the restored object: (root).optimizer._iterations\n",
            "WARNING:tensorflow:Value in checkpoint could not be found in the restored object: (root).optimizer._learning_rate\n",
            "W0109 07:55:23.037249 132055901843456 checkpoint.py:234] Value in checkpoint could not be found in the restored object: (root).optimizer._learning_rate\n",
            "WARNING:tensorflow:Value in checkpoint could not be found in the restored object: (root).optimizer._variables.1\n",
            "W0109 07:55:23.037330 132055901843456 checkpoint.py:234] Value in checkpoint could not be found in the restored object: (root).optimizer._variables.1\n",
            "WARNING:tensorflow:Value in checkpoint could not be found in the restored object: (root).optimizer._variables.2\n",
            "W0109 07:55:23.037401 132055901843456 checkpoint.py:234] Value in checkpoint could not be found in the restored object: (root).optimizer._variables.2\n",
            "WARNING:tensorflow:Value in checkpoint could not be found in the restored object: (root).optimizer._variables.3\n",
            "W0109 07:55:23.037469 132055901843456 checkpoint.py:234] Value in checkpoint could not be found in the restored object: (root).optimizer._variables.3\n",
            "WARNING:tensorflow:Value in checkpoint could not be found in the restored object: (root).optimizer._variables.4\n",
            "W0109 07:55:23.037554 132055901843456 checkpoint.py:234] Value in checkpoint could not be found in the restored object: (root).optimizer._variables.4\n",
            "WARNING:tensorflow:Value in checkpoint could not be found in the restored object: (root).optimizer._variables.5\n",
            "W0109 07:55:23.037627 132055901843456 checkpoint.py:234] Value in checkpoint could not be found in the restored object: (root).optimizer._variables.5\n",
            "WARNING:tensorflow:Value in checkpoint could not be found in the restored object: (root).optimizer._variables.6\n",
            "W0109 07:55:23.037694 132055901843456 checkpoint.py:234] Value in checkpoint could not be found in the restored object: (root).optimizer._variables.6\n",
            "WARNING:tensorflow:Value in checkpoint could not be found in the restored object: (root).optimizer._variables.7\n",
            "W0109 07:55:23.037760 132055901843456 checkpoint.py:234] Value in checkpoint could not be found in the restored object: (root).optimizer._variables.7\n",
            "WARNING:tensorflow:Value in checkpoint could not be found in the restored object: (root).optimizer._variables.8\n",
            "W0109 07:55:23.037826 132055901843456 checkpoint.py:234] Value in checkpoint could not be found in the restored object: (root).optimizer._variables.8\n",
            "WARNING:tensorflow:Value in checkpoint could not be found in the restored object: (root).optimizer._variables.9\n",
            "W0109 07:55:23.037894 132055901843456 checkpoint.py:234] Value in checkpoint could not be found in the restored object: (root).optimizer._variables.9\n",
            "WARNING:tensorflow:Value in checkpoint could not be found in the restored object: (root).optimizer._variables.10\n",
            "W0109 07:55:23.037959 132055901843456 checkpoint.py:234] Value in checkpoint could not be found in the restored object: (root).optimizer._variables.10\n",
            "WARNING:tensorflow:Value in checkpoint could not be found in the restored object: (root).optimizer._variables.11\n",
            "W0109 07:55:23.038025 132055901843456 checkpoint.py:234] Value in checkpoint could not be found in the restored object: (root).optimizer._variables.11\n",
            "WARNING:tensorflow:Value in checkpoint could not be found in the restored object: (root).optimizer._variables.12\n",
            "W0109 07:55:23.038091 132055901843456 checkpoint.py:234] Value in checkpoint could not be found in the restored object: (root).optimizer._variables.12\n",
            "WARNING:tensorflow:Value in checkpoint could not be found in the restored object: (root).optimizer._variables.13\n",
            "W0109 07:55:23.038156 132055901843456 checkpoint.py:234] Value in checkpoint could not be found in the restored object: (root).optimizer._variables.13\n",
            "WARNING:tensorflow:Value in checkpoint could not be found in the restored object: (root).optimizer._variables.14\n",
            "W0109 07:55:23.038223 132055901843456 checkpoint.py:234] Value in checkpoint could not be found in the restored object: (root).optimizer._variables.14\n",
            "WARNING:tensorflow:Value in checkpoint could not be found in the restored object: (root).optimizer._variables.15\n",
            "W0109 07:55:23.038289 132055901843456 checkpoint.py:234] Value in checkpoint could not be found in the restored object: (root).optimizer._variables.15\n",
            "WARNING:tensorflow:Value in checkpoint could not be found in the restored object: (root).optimizer._variables.16\n",
            "W0109 07:55:23.038353 132055901843456 checkpoint.py:234] Value in checkpoint could not be found in the restored object: (root).optimizer._variables.16\n",
            "WARNING:tensorflow:Value in checkpoint could not be found in the restored object: (root).optimizer._variables.17\n",
            "W0109 07:55:23.038419 132055901843456 checkpoint.py:234] Value in checkpoint could not be found in the restored object: (root).optimizer._variables.17\n",
            "INFO:tensorflow:Converting model to tflite model.\n",
            "I0109 07:55:23.038698 132055901843456 app.py:254] Converting model to tflite model.\n",
            "2024-01-09 07:55:23.262412: W tensorflow/compiler/mlir/lite/python/tf_tfl_flatbuffer_helpers.cc:378] Ignored output_format.\n",
            "2024-01-09 07:55:23.262476: W tensorflow/compiler/mlir/lite/python/tf_tfl_flatbuffer_helpers.cc:381] Ignored drop_control_dependency.\n",
            "Summary on the non-converted ops:\n",
            "---------------------------------\n",
            " * Accepted dialects: tfl, builtin, func\n",
            " * Non-Converted Ops: 29, Total Ops 65, % non-converted = 44.62 %\n",
            " * 29 ARITH ops\n",
            "\n",
            "- arith.constant:   29 occurrences  (f32: 17, i32: 12)\n",
            "\n",
            "\n",
            "\n",
            "  (f32: 2)\n",
            "  (f32: 2)\n",
            "  (f32: 4)\n",
            "  (f32: 4)\n",
            "  (f32: 2)\n",
            "  (f32: 1)\n",
            "  (f32: 2)\n",
            "\n",
            "  (i1: 2)\n",
            "  (f32: 2)\n",
            "  (f32: 8, i32: 2)\n",
            "  (f32: 1)\n"
          ]
        }
      ]
    },
    {
      "cell_type": "markdown",
      "source": [],
      "metadata": {
        "id": "arkGUbF-Ng_K"
      }
    },
    {
      "cell_type": "code",
      "source": [
        "import os\n",
        "import tensorflow as tf\n",
        "\n",
        "# Use [0, 1, ... 9] as example input to represent 10 movies that user interacted with.\n",
        "context = tf.range(10)\n",
        "# Path to exported TensorFlow Lite model.\n",
        "tflite_model_path = 'model/model_dir/export/export_m2/model.tflite'  #@param {type:\"string\"}\n",
        "\n",
        "# Create TFLite interpreter.\n",
        "interpreter = tf.lite.Interpreter(tflite_model_path)\n",
        "interpreter.allocate_tensors()\n",
        "input_details = interpreter.get_input_details()\n",
        "output_details = interpreter.get_output_details()\n",
        "print('Display inputs and outputs:')\n",
        "print(input_details)\n",
        "print(output_details)\n",
        "\n",
        "# Find indices.\n",
        "names = [\n",
        "  'serving_default_context_movie_id:0',\n",
        "  'serving_default_context_movie_genre:0',\n",
        "  'serving_default_context_movie_rating:0',\n",
        "]\n",
        "indices = {i['name']: i['index'] for i in input_details}\n",
        "\n",
        "# Fake inputs for illustration. Please change to the real data.\n",
        "# Use [0, 1, ... 9] to represent 10 movies that user interacted with.\n",
        "ids = tf.range(10)\n",
        "interpreter.set_tensor(indices[names[0]], ids)\n",
        "# Use [0, 1, ..., 31] to represent 32 movie genres.\n",
        "genres = tf.range(32)\n",
        "interpreter.set_tensor(indices[names[1]], genres)\n",
        "# Use [1.0, 1.0, ..., 1.0] to represent 10 movie ratings.\n",
        "ratings = tf.ones(10)\n",
        "interpreter.set_tensor(indices[names[2]], ratings)\n",
        "\n",
        "# Run inference.\n",
        "interpreter.invoke()\n",
        "\n",
        "# Get outputs.\n",
        "top_prediction_ids = interpreter.get_tensor(output_details[0]['index'])\n",
        "top_prediction_scores = interpreter.get_tensor(output_details[1]['index'])\n",
        "print('Predicted results:')\n",
        "print('Top ids: {}'.format(top_prediction_ids))\n",
        "print('Top scores: {}'.format(top_prediction_scores))\n"
      ],
      "metadata": {
        "id": "ZEKMR1x9NtCe"
      },
      "execution_count": null,
      "outputs": []
    }
  ]
}